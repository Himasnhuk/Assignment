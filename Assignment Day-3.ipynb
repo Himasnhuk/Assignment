{
 "cells": [
  {
   "cell_type": "code",
   "execution_count": 7,
   "metadata": {},
   "outputs": [
    {
     "name": "stdout",
     "output_type": "stream",
     "text": [
      "[ 2  5  8 11 14 17 20 23 26 29 32 35 38 41 44 47]\n"
     ]
    }
   ],
   "source": [
    "# Answer 1:\n",
    "\n",
    "import numpy as np\n",
    "arr = np.arange(2,50,3)\n",
    "print(arr)\n"
   ]
  },
  {
   "cell_type": "code",
   "execution_count": null,
   "metadata": {},
   "outputs": [],
   "source": [
    "#Answer 2:\n",
    "\n",
    "import numpy as np\n",
    "lst1=[] \n",
    "lst2=[]for i in range(5):\n",
    "\n",
    "    n=int(input(\"Enter elements in list 1: \"))\n",
    "    lst1.append(n)\n",
    "for i in range(5):\n",
    "    n=int(input(\"Enter elements in list 2: \"))\n",
    "    lst2.append(n)\n",
    "#converting list into numpy array\n",
    "arr1=np.array(lst1)    \n",
    "arr2=np.array(lst2)\n",
    "#Concatenating arrays\n",
    "arr1=np.concatenate((arr1,arr2))\n",
    "print(arr1)\n",
    "#sorting array\n",
    "arr1=np.sort(arr1)\n",
    "print(\"Array after sorting: \\n \",arr1)\n"
   ]
  },
  {
   "cell_type": "code",
   "execution_count": 5,
   "metadata": {},
   "outputs": [
    {
     "name": "stdout",
     "output_type": "stream",
     "text": [
      "[[1 3 5]\n",
      " [2 4 6]\n",
      " [3 5 7]]\n",
      "Dimension of array: 2\n",
      "Shape of array: (3, 3)\n"
     ]
    }
   ],
   "source": [
    "#Answer 3:\n",
    "\n",
    "import numpy as np\n",
    "arr=np.array([[1,3,5],[2,4,6],[3,5,7]])\n",
    "print(arr)\n",
    "print(\"Dimension of array:\",arr.ndim)\n",
    "print(\"Shape of array:\",arr.shape)\n",
    "\n"
   ]
  },
  {
   "cell_type": "code",
   "execution_count": null,
   "metadata": {},
   "outputs": [],
   "source": [
    "#Answer 4:\n",
    "\n",
    "import numpy as np\n",
    "arr=np.arange(10)\n",
    "print(\"\\nShape of Array :\",arr.shape)\n",
    "\n",
    "# converting using newaxis in row wise\n",
    "row_arr = arr[np.newaxis, :]\n",
    "print(\"\\nShape of 2d Array in row major :\",row_arr.shape)\n",
    "\n",
    "# converting using newaxis in column wise\n",
    "col_arr = arr[:, np.newaxis]\n",
    "print(\"\\nShape of 2d Array in column major :\",col_arr.shape)\n",
    "\n"
   ]
  },
  {
   "cell_type": "code",
   "execution_count": 9,
   "metadata": {},
   "outputs": [
    {
     "name": "stdout",
     "output_type": "stream",
     "text": [
      "Vertical stack:\n",
      " [[  1   4   9  16  25]\n",
      " [ 36  49  64  81 100]]\n",
      "Horizontal stack:\n",
      " [  1   4   9  16  25  36  49  64  81 100]\n"
     ]
    }
   ],
   "source": [
    "#Answer 5:\n",
    "\n",
    "import numpy as np\n",
    "arr1=np.square([1,2,3,4,5])\n",
    "arr2=np.square([6,7,8,9,10])\n",
    "print(\"Vertical stack:\\n\",np.vstack((arr1,arr2)))\n",
    "print(\"Horizontal stack:\\n\",np.hstack((arr1,arr2)))"
   ]
  },
  {
   "cell_type": "code",
   "execution_count": 4,
   "metadata": {},
   "outputs": [
    {
     "name": "stdout",
     "output_type": "stream",
     "text": [
      "[[1 3]\n",
      " [2 1]\n",
      " [3 1]\n",
      " [4 3]\n",
      " [5 4]\n",
      " [6 2]\n",
      " [7 2]]\n"
     ]
    }
   ],
   "source": [
    "#Answer 6:\n",
    "\n",
    "import numpy as np\n",
    "number_list = np.array([1, 1, 2, 3, 4, 4, 1,5,6,7,5,4,5,6,5,7,])\n",
    "\n",
    "(unique, counts) = np.unique(number_list, return_counts=True)\n",
    "frequencies = np.asarray((unique, counts)).T\n",
    "\n",
    "print(frequencies)"
   ]
  }
 ],
 "metadata": {
  "kernelspec": {
   "display_name": "Python 3",
   "language": "python",
   "name": "python3"
  },
  "language_info": {
   "codemirror_mode": {
    "name": "ipython",
    "version": 3
   },
   "file_extension": ".py",
   "mimetype": "text/x-python",
   "name": "python",
   "nbconvert_exporter": "python",
   "pygments_lexer": "ipython3",
   "version": "3.8.3"
  }
 },
 "nbformat": 4,
 "nbformat_minor": 4
}
