{
 "cells": [
  {
   "cell_type": "code",
   "execution_count": 26,
   "metadata": {},
   "outputs": [
    {
     "name": "stdout",
     "output_type": "stream",
     "text": [
      "6\n",
      "9\n",
      "4\n",
      "5\n",
      "6\n",
      "3\n",
      "2\n",
      "1\n",
      "3\n",
      "8\n",
      "[6, 4, 6, 2, 8]\n"
     ]
    }
   ],
   "source": [
    "# Answer 1\n",
    "\n",
    "a=[]\n",
    "for i in range(10):\n",
    "    b = int(input())\n",
    "    if (b%2==0):\n",
    "        a.append(b)\n",
    "print(a)\n"
   ]
  },
  {
   "cell_type": "code",
   "execution_count": 8,
   "metadata": {},
   "outputs": [
    {
     "name": "stdout",
     "output_type": "stream",
     "text": [
      "[1, 2, 3, 4, 5, 6, 7]\n",
      "[8, 9, 10]\n",
      "[8, 9, 10, 12]\n",
      "[1, 2, 3, 4, 5, 10, 6, 7]\n",
      "[1, 2, 3, 4, 5, 10, 6, 7, 8, 9, 10, 12]\n",
      "[1, 2, 3, 4, 5, 10, 6, 7, 8, 9, 10]\n"
     ]
    }
   ],
   "source": [
    "# Answer 2\n",
    "\n",
    "lst1=[1,2,3,4,5,6,7]\n",
    "print(lst1)\n",
    "lst2=[i for i in range(8,11)]   \n",
    "print(lst2)\n",
    "lst2.append(12)\n",
    "print(lst2)\n",
    "lst1.insert(5,10)\n",
    "print(lst1)\n",
    "lst1.extend(lst2)\n",
    "print(lst1)\n",
    "lst1.remove(12)\n",
    "print(lst1)"
   ]
  },
  {
   "cell_type": "code",
   "execution_count": 3,
   "metadata": {},
   "outputs": [
    {
     "name": "stdout",
     "output_type": "stream",
     "text": [
      "6\n",
      "{1: 1, 2: 4, 3: 9, 4: 16, 5: 25, 6: 36}\n"
     ]
    }
   ],
   "source": [
    "# Answer 3\n",
    "\n",
    "n=int(input())\n",
    "d={i:i*i for i in range(1,n+1) }\n",
    "print(d)\n"
   ]
  },
  {
   "cell_type": "code",
   "execution_count": 7,
   "metadata": {},
   "outputs": [
    {
     "name": "stdout",
     "output_type": "stream",
     "text": [
      "4\n",
      "UP 5\n",
      "DOWN 3\n",
      "LEFT 3\n",
      "RIGHT 2\n",
      "2\n"
     ]
    }
   ],
   "source": [
    "# Answer 4\n",
    "\n",
    "import math\n",
    "x,y=0,0\n",
    "n=int(input())\n",
    "for i in range(n):\n",
    "    mov=input()        #taking input as movements\n",
    "    mov=mov.split(\" \")\n",
    "    if(mov[0]==\"UP\"):\n",
    "        y+=int(mov[1])\n",
    "    elif(mov[0]==\"DOWN\"):\n",
    "        y-=int(mov[1])\n",
    "    elif(mov[0]==\"LEFT\"):\n",
    "        x-=int(mov[1])\n",
    "    elif(mov[0]==\"RIGHT\"):\n",
    "        x+=int(mov[1])\n",
    "        \n",
    "dis=math.sqrt(x**2+y**2)     #calculating distance\n",
    "print(round(dis))\n",
    "    \n",
    "    "
   ]
  }
 ],
 "metadata": {
  "kernelspec": {
   "display_name": "Python 3",
   "language": "python",
   "name": "python3"
  },
  "language_info": {
   "codemirror_mode": {
    "name": "ipython",
    "version": 3
   },
   "file_extension": ".py",
   "mimetype": "text/x-python",
   "name": "python",
   "nbconvert_exporter": "python",
   "pygments_lexer": "ipython3",
   "version": "3.8.3"
  }
 },
 "nbformat": 4,
 "nbformat_minor": 4
}
